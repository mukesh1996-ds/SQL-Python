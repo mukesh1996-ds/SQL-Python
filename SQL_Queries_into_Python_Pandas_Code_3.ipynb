{
  "cells": [
    {
      "cell_type": "markdown",
      "id": "da049735",
      "metadata": {
        "id": "da049735"
      },
      "source": [
        "# SQL Queries with Equivalent Python code using Pandas "
      ]
    },
    {
      "cell_type": "code",
      "execution_count": 1,
      "id": "b1ad762d",
      "metadata": {
        "id": "b1ad762d"
      },
      "outputs": [],
      "source": [
        "import mysql.connector as sql"
      ]
    },
    {
      "cell_type": "code",
      "execution_count": 2,
      "id": "e5794f55",
      "metadata": {
        "id": "e5794f55"
      },
      "outputs": [],
      "source": [
        "mydb = sql.connect(\n",
        "  host=\"localhost\",\n",
        "  user=\"root\",\n",
        "  password=\"12345\"\n",
        ")"
      ]
    },
    {
      "cell_type": "code",
      "execution_count": 3,
      "id": "e981de03",
      "metadata": {
        "id": "e981de03",
        "outputId": "a777910b-9130-4515-c55b-2a48c4ba898f"
      },
      "outputs": [
        {
          "name": "stdout",
          "output_type": "stream",
          "text": [
            "('cancer',)\n",
            "('hello',)\n",
            "('information_schema',)\n",
            "('mall_customer',)\n",
            "('mukesh',)\n",
            "('mydatabase',)\n",
            "('mysql',)\n",
            "('newb',)\n",
            "('performance_schema',)\n",
            "('sakila',)\n",
            "('shop_customers',)\n",
            "('student',)\n",
            "('sys',)\n",
            "('testdb',)\n",
            "('world',)\n"
          ]
        }
      ],
      "source": [
        " mycursor = mydb.cursor()\n",
        "\n",
        "mycursor.execute(\"SHOW DATABASES\")\n",
        "\n",
        "for x in mycursor:\n",
        "    print(x)\n"
      ]
    },
    {
      "cell_type": "code",
      "execution_count": 4,
      "id": "514893ef",
      "metadata": {
        "id": "514893ef"
      },
      "outputs": [],
      "source": [
        "mydb = sql.connect(\n",
        "  host=\"localhost\",\n",
        "  user=\"root\",\n",
        "  password=\"12345\",\n",
        "  database=\"shop_customers\"\n",
        ")"
      ]
    },
    {
      "cell_type": "code",
      "execution_count": 5,
      "id": "3963c395",
      "metadata": {
        "id": "3963c395",
        "outputId": "c185cc9b-4736-48b5-ce0c-880ff9ce0a2d"
      },
      "outputs": [
        {
          "name": "stdout",
          "output_type": "stream",
          "text": [
            "('shop_customers',)\n"
          ]
        }
      ],
      "source": [
        "mycursor = mydb.cursor()\n",
        "\n",
        "mycursor.execute(\"SHOW TABLES\")\n",
        "\n",
        "for x in mycursor:\n",
        "    print(x)"
      ]
    },
    {
      "cell_type": "code",
      "execution_count": 6,
      "id": "6d10dad3",
      "metadata": {
        "id": "6d10dad3"
      },
      "outputs": [],
      "source": [
        "def query(sql):\n",
        "    mycursor = mydb.cursor()\n",
        "    \n",
        "    mycursor.execute(sql)\n",
        "    \n",
        "    myresult = mycursor.fetchall()\n",
        "    \n",
        "    for x in myresult:\n",
        "        print(x)"
      ]
    },
    {
      "cell_type": "code",
      "execution_count": null,
      "id": "ee71405f",
      "metadata": {
        "id": "ee71405f"
      },
      "outputs": [],
      "source": []
    },
    {
      "cell_type": "code",
      "execution_count": 7,
      "id": "ce2e5f6c",
      "metadata": {
        "id": "ce2e5f6c"
      },
      "outputs": [],
      "source": [
        "import pandas as pd\n",
        "\n",
        "customers = pd.read_csv('D:\\Final submission\\Sql\\Shop_Customers.csv')"
      ]
    },
    {
      "cell_type": "markdown",
      "id": "85f0d855",
      "metadata": {
        "id": "85f0d855"
      },
      "source": [
        "##### ORDERBY  Clause (Ascending Order)"
      ]
    },
    {
      "cell_type": "code",
      "execution_count": 8,
      "id": "bc688b8d",
      "metadata": {
        "id": "bc688b8d",
        "outputId": "27a0edb3-0002-4ce2-890c-b6f72a38a3e3"
      },
      "outputs": [
        {
          "name": "stdout",
          "output_type": "stream",
          "text": [
            "(203, 'Female', 59, 23, 6)\n",
            "(207, 'Female', 55, 32, 6)\n",
            "(213, 'Female', 59, 21, 15)\n",
            "(217, 'Female', 67, 26, 35)\n",
            "(205, 'Female', 45, 19, 40)\n",
            "(210, 'Female', 29, 17, 72)\n",
            "(206, 'Female', 47, 19, 76)\n",
            "(204, 'Female', 37, 23, 77)\n",
            "(214, 'Female', 53, 22, 77)\n",
            "(208, 'Female', 23, 24, 94)\n",
            "(220, 'Female', 23, 24, 98)\n",
            "(212, 'Female', 20, 19, 99)\n"
          ]
        }
      ],
      "source": [
        "query('SELECT * FROM shop_customers WHERE Genre\t = \"Female\" ORDER BY Spending_Score_1_to_100')"
      ]
    },
    {
      "cell_type": "code",
      "execution_count": 9,
      "id": "d9ed269d",
      "metadata": {
        "id": "d9ed269d",
        "outputId": "bb153c05-321b-438a-aade-28ef3c9b3316"
      },
      "outputs": [
        {
          "data": {
            "text/html": [
              "<div>\n",
              "<style scoped>\n",
              "    .dataframe tbody tr th:only-of-type {\n",
              "        vertical-align: middle;\n",
              "    }\n",
              "\n",
              "    .dataframe tbody tr th {\n",
              "        vertical-align: top;\n",
              "    }\n",
              "\n",
              "    .dataframe thead th {\n",
              "        text-align: right;\n",
              "    }\n",
              "</style>\n",
              "<table border=\"1\" class=\"dataframe\">\n",
              "  <thead>\n",
              "    <tr style=\"text-align: right;\">\n",
              "      <th></th>\n",
              "      <th>CustomerID</th>\n",
              "      <th>Genre</th>\n",
              "      <th>Age</th>\n",
              "      <th>Annual_Income_K_Dollars</th>\n",
              "      <th>Spending_Score_1_to_100</th>\n",
              "    </tr>\n",
              "  </thead>\n",
              "  <tbody>\n",
              "    <tr>\n",
              "      <th>2</th>\n",
              "      <td>203</td>\n",
              "      <td>Female</td>\n",
              "      <td>59</td>\n",
              "      <td>23</td>\n",
              "      <td>6</td>\n",
              "    </tr>\n",
              "    <tr>\n",
              "      <th>6</th>\n",
              "      <td>207</td>\n",
              "      <td>Female</td>\n",
              "      <td>55</td>\n",
              "      <td>32</td>\n",
              "      <td>6</td>\n",
              "    </tr>\n",
              "    <tr>\n",
              "      <th>12</th>\n",
              "      <td>213</td>\n",
              "      <td>Female</td>\n",
              "      <td>59</td>\n",
              "      <td>21</td>\n",
              "      <td>15</td>\n",
              "    </tr>\n",
              "    <tr>\n",
              "      <th>16</th>\n",
              "      <td>217</td>\n",
              "      <td>Female</td>\n",
              "      <td>67</td>\n",
              "      <td>26</td>\n",
              "      <td>35</td>\n",
              "    </tr>\n",
              "    <tr>\n",
              "      <th>4</th>\n",
              "      <td>205</td>\n",
              "      <td>Female</td>\n",
              "      <td>45</td>\n",
              "      <td>19</td>\n",
              "      <td>40</td>\n",
              "    </tr>\n",
              "    <tr>\n",
              "      <th>9</th>\n",
              "      <td>210</td>\n",
              "      <td>Female</td>\n",
              "      <td>29</td>\n",
              "      <td>17</td>\n",
              "      <td>72</td>\n",
              "    </tr>\n",
              "    <tr>\n",
              "      <th>5</th>\n",
              "      <td>206</td>\n",
              "      <td>Female</td>\n",
              "      <td>47</td>\n",
              "      <td>19</td>\n",
              "      <td>76</td>\n",
              "    </tr>\n",
              "    <tr>\n",
              "      <th>3</th>\n",
              "      <td>204</td>\n",
              "      <td>Female</td>\n",
              "      <td>37</td>\n",
              "      <td>23</td>\n",
              "      <td>77</td>\n",
              "    </tr>\n",
              "    <tr>\n",
              "      <th>13</th>\n",
              "      <td>214</td>\n",
              "      <td>Female</td>\n",
              "      <td>53</td>\n",
              "      <td>22</td>\n",
              "      <td>77</td>\n",
              "    </tr>\n",
              "    <tr>\n",
              "      <th>7</th>\n",
              "      <td>208</td>\n",
              "      <td>Female</td>\n",
              "      <td>23</td>\n",
              "      <td>24</td>\n",
              "      <td>94</td>\n",
              "    </tr>\n",
              "    <tr>\n",
              "      <th>19</th>\n",
              "      <td>220</td>\n",
              "      <td>Female</td>\n",
              "      <td>23</td>\n",
              "      <td>24</td>\n",
              "      <td>98</td>\n",
              "    </tr>\n",
              "    <tr>\n",
              "      <th>11</th>\n",
              "      <td>212</td>\n",
              "      <td>Female</td>\n",
              "      <td>20</td>\n",
              "      <td>19</td>\n",
              "      <td>99</td>\n",
              "    </tr>\n",
              "  </tbody>\n",
              "</table>\n",
              "</div>"
            ],
            "text/plain": [
              "    CustomerID   Genre  Age  Annual_Income_K_Dollars  Spending_Score_1_to_100\n",
              "2          203  Female   59                       23                        6\n",
              "6          207  Female   55                       32                        6\n",
              "12         213  Female   59                       21                       15\n",
              "16         217  Female   67                       26                       35\n",
              "4          205  Female   45                       19                       40\n",
              "9          210  Female   29                       17                       72\n",
              "5          206  Female   47                       19                       76\n",
              "3          204  Female   37                       23                       77\n",
              "13         214  Female   53                       22                       77\n",
              "7          208  Female   23                       24                       94\n",
              "19         220  Female   23                       24                       98\n",
              "11         212  Female   20                       19                       99"
            ]
          },
          "execution_count": 9,
          "metadata": {},
          "output_type": "execute_result"
        }
      ],
      "source": [
        "#SQL Statement (Filtering on Gender colmn & Ordering By Spending_Score_1_to_100)\n",
        "'''SELECT * FROM customers \n",
        "WHERE Gender = \"Female\" \n",
        "ORDER BY Spending_Score_1_to_100'''\n",
        "\n",
        "# Using Pandas\n",
        "customers[customers.Genre == 'Female'].sort_values('Spending_Score_1_to_100')"
      ]
    },
    {
      "cell_type": "markdown",
      "id": "4430f285",
      "metadata": {
        "id": "4430f285"
      },
      "source": [
        "##### ORDERBY Clause(Descending Order)"
      ]
    },
    {
      "cell_type": "code",
      "execution_count": 10,
      "id": "62e96a36",
      "metadata": {
        "id": "62e96a36",
        "outputId": "60ea1961-ec46-44f1-ab1a-026044dc5894"
      },
      "outputs": [
        {
          "name": "stdout",
          "output_type": "stream",
          "text": [
            "(203, 'Female', 59, 23, 6)\n",
            "(207, 'Female', 55, 32, 6)\n",
            "(213, 'Female', 59, 21, 15)\n",
            "(217, 'Female', 67, 26, 35)\n",
            "(205, 'Female', 45, 19, 40)\n",
            "(210, 'Female', 29, 17, 72)\n",
            "(206, 'Female', 47, 19, 76)\n",
            "(204, 'Female', 37, 23, 77)\n",
            "(214, 'Female', 53, 22, 77)\n",
            "(208, 'Female', 23, 24, 94)\n",
            "(220, 'Female', 23, 24, 98)\n",
            "(212, 'Female', 20, 19, 99)\n"
          ]
        }
      ],
      "source": [
        "query('SELECT * FROM shop_customers WHERE Genre = \"Female\" ORDER BY Spending_Score_1_to_100')"
      ]
    },
    {
      "cell_type": "code",
      "execution_count": 12,
      "id": "aeb90828",
      "metadata": {
        "id": "aeb90828",
        "outputId": "c647acd7-d9c0-4c4b-fa68-ac66e41cbad9"
      },
      "outputs": [
        {
          "data": {
            "text/html": [
              "<div>\n",
              "<style scoped>\n",
              "    .dataframe tbody tr th:only-of-type {\n",
              "        vertical-align: middle;\n",
              "    }\n",
              "\n",
              "    .dataframe tbody tr th {\n",
              "        vertical-align: top;\n",
              "    }\n",
              "\n",
              "    .dataframe thead th {\n",
              "        text-align: right;\n",
              "    }\n",
              "</style>\n",
              "<table border=\"1\" class=\"dataframe\">\n",
              "  <thead>\n",
              "    <tr style=\"text-align: right;\">\n",
              "      <th></th>\n",
              "      <th>CustomerID</th>\n",
              "      <th>Genre</th>\n",
              "      <th>Age</th>\n",
              "      <th>Annual_Income_K_Dollars</th>\n",
              "      <th>Spending_Score_1_to_100</th>\n",
              "    </tr>\n",
              "  </thead>\n",
              "  <tbody>\n",
              "    <tr>\n",
              "      <th>11</th>\n",
              "      <td>212</td>\n",
              "      <td>Female</td>\n",
              "      <td>20</td>\n",
              "      <td>19</td>\n",
              "      <td>99</td>\n",
              "    </tr>\n",
              "    <tr>\n",
              "      <th>19</th>\n",
              "      <td>220</td>\n",
              "      <td>Female</td>\n",
              "      <td>23</td>\n",
              "      <td>24</td>\n",
              "      <td>98</td>\n",
              "    </tr>\n",
              "    <tr>\n",
              "      <th>7</th>\n",
              "      <td>208</td>\n",
              "      <td>Female</td>\n",
              "      <td>23</td>\n",
              "      <td>24</td>\n",
              "      <td>94</td>\n",
              "    </tr>\n",
              "    <tr>\n",
              "      <th>3</th>\n",
              "      <td>204</td>\n",
              "      <td>Female</td>\n",
              "      <td>37</td>\n",
              "      <td>23</td>\n",
              "      <td>77</td>\n",
              "    </tr>\n",
              "    <tr>\n",
              "      <th>13</th>\n",
              "      <td>214</td>\n",
              "      <td>Female</td>\n",
              "      <td>53</td>\n",
              "      <td>22</td>\n",
              "      <td>77</td>\n",
              "    </tr>\n",
              "    <tr>\n",
              "      <th>5</th>\n",
              "      <td>206</td>\n",
              "      <td>Female</td>\n",
              "      <td>47</td>\n",
              "      <td>19</td>\n",
              "      <td>76</td>\n",
              "    </tr>\n",
              "    <tr>\n",
              "      <th>9</th>\n",
              "      <td>210</td>\n",
              "      <td>Female</td>\n",
              "      <td>29</td>\n",
              "      <td>17</td>\n",
              "      <td>72</td>\n",
              "    </tr>\n",
              "    <tr>\n",
              "      <th>4</th>\n",
              "      <td>205</td>\n",
              "      <td>Female</td>\n",
              "      <td>45</td>\n",
              "      <td>19</td>\n",
              "      <td>40</td>\n",
              "    </tr>\n",
              "    <tr>\n",
              "      <th>16</th>\n",
              "      <td>217</td>\n",
              "      <td>Female</td>\n",
              "      <td>67</td>\n",
              "      <td>26</td>\n",
              "      <td>35</td>\n",
              "    </tr>\n",
              "    <tr>\n",
              "      <th>12</th>\n",
              "      <td>213</td>\n",
              "      <td>Female</td>\n",
              "      <td>59</td>\n",
              "      <td>21</td>\n",
              "      <td>15</td>\n",
              "    </tr>\n",
              "    <tr>\n",
              "      <th>2</th>\n",
              "      <td>203</td>\n",
              "      <td>Female</td>\n",
              "      <td>59</td>\n",
              "      <td>23</td>\n",
              "      <td>6</td>\n",
              "    </tr>\n",
              "    <tr>\n",
              "      <th>6</th>\n",
              "      <td>207</td>\n",
              "      <td>Female</td>\n",
              "      <td>55</td>\n",
              "      <td>32</td>\n",
              "      <td>6</td>\n",
              "    </tr>\n",
              "  </tbody>\n",
              "</table>\n",
              "</div>"
            ],
            "text/plain": [
              "    CustomerID   Genre  Age  Annual_Income_K_Dollars  Spending_Score_1_to_100\n",
              "11         212  Female   20                       19                       99\n",
              "19         220  Female   23                       24                       98\n",
              "7          208  Female   23                       24                       94\n",
              "3          204  Female   37                       23                       77\n",
              "13         214  Female   53                       22                       77\n",
              "5          206  Female   47                       19                       76\n",
              "9          210  Female   29                       17                       72\n",
              "4          205  Female   45                       19                       40\n",
              "16         217  Female   67                       26                       35\n",
              "12         213  Female   59                       21                       15\n",
              "2          203  Female   59                       23                        6\n",
              "6          207  Female   55                       32                        6"
            ]
          },
          "execution_count": 12,
          "metadata": {},
          "output_type": "execute_result"
        }
      ],
      "source": [
        "#SQL Statement (Filtering on Gender column & Ordering By Spending_Score_1_to_100 in DESCENDING order)\n",
        "'''SELECT * FROM customers \n",
        "WHERE Gender = \"Female\" \n",
        "ORDER BY Spending_Score_1_to_100 DESC'''\n",
        "\n",
        "# Using Pandas\n",
        "customers[customers.Genre == 'Female'].sort_values('Spending_Score_1_to_100', ascending=False)"
      ]
    },
    {
      "cell_type": "markdown",
      "id": "2373eba3",
      "metadata": {
        "id": "2373eba3"
      },
      "source": [
        "##### GROUPBY  Clause(Count)"
      ]
    },
    {
      "cell_type": "code",
      "execution_count": 13,
      "id": "da0fe29a",
      "metadata": {
        "id": "da0fe29a",
        "outputId": "2b77dd2d-3703-4bd6-da1b-8f2bd96cdf6d"
      },
      "outputs": [
        {
          "data": {
            "text/html": [
              "<div>\n",
              "<style scoped>\n",
              "    .dataframe tbody tr th:only-of-type {\n",
              "        vertical-align: middle;\n",
              "    }\n",
              "\n",
              "    .dataframe tbody tr th {\n",
              "        vertical-align: top;\n",
              "    }\n",
              "\n",
              "    .dataframe thead th {\n",
              "        text-align: right;\n",
              "    }\n",
              "</style>\n",
              "<table border=\"1\" class=\"dataframe\">\n",
              "  <thead>\n",
              "    <tr style=\"text-align: right;\">\n",
              "      <th></th>\n",
              "      <th>Genre</th>\n",
              "      <th>Age</th>\n",
              "      <th>Count</th>\n",
              "    </tr>\n",
              "  </thead>\n",
              "  <tbody>\n",
              "    <tr>\n",
              "      <th>0</th>\n",
              "      <td>Female</td>\n",
              "      <td>20</td>\n",
              "      <td>1</td>\n",
              "    </tr>\n",
              "    <tr>\n",
              "      <th>1</th>\n",
              "      <td>Female</td>\n",
              "      <td>23</td>\n",
              "      <td>2</td>\n",
              "    </tr>\n",
              "    <tr>\n",
              "      <th>2</th>\n",
              "      <td>Female</td>\n",
              "      <td>29</td>\n",
              "      <td>1</td>\n",
              "    </tr>\n",
              "    <tr>\n",
              "      <th>3</th>\n",
              "      <td>Female</td>\n",
              "      <td>37</td>\n",
              "      <td>1</td>\n",
              "    </tr>\n",
              "    <tr>\n",
              "      <th>4</th>\n",
              "      <td>Female</td>\n",
              "      <td>45</td>\n",
              "      <td>1</td>\n",
              "    </tr>\n",
              "    <tr>\n",
              "      <th>5</th>\n",
              "      <td>Female</td>\n",
              "      <td>47</td>\n",
              "      <td>1</td>\n",
              "    </tr>\n",
              "    <tr>\n",
              "      <th>6</th>\n",
              "      <td>Female</td>\n",
              "      <td>53</td>\n",
              "      <td>1</td>\n",
              "    </tr>\n",
              "    <tr>\n",
              "      <th>7</th>\n",
              "      <td>Female</td>\n",
              "      <td>55</td>\n",
              "      <td>1</td>\n",
              "    </tr>\n",
              "    <tr>\n",
              "      <th>8</th>\n",
              "      <td>Female</td>\n",
              "      <td>59</td>\n",
              "      <td>2</td>\n",
              "    </tr>\n",
              "    <tr>\n",
              "      <th>9</th>\n",
              "      <td>Female</td>\n",
              "      <td>67</td>\n",
              "      <td>1</td>\n",
              "    </tr>\n",
              "    <tr>\n",
              "      <th>10</th>\n",
              "      <td>Male</td>\n",
              "      <td>20</td>\n",
              "      <td>1</td>\n",
              "    </tr>\n",
              "    <tr>\n",
              "      <th>11</th>\n",
              "      <td>Male</td>\n",
              "      <td>28</td>\n",
              "      <td>1</td>\n",
              "    </tr>\n",
              "    <tr>\n",
              "      <th>12</th>\n",
              "      <td>Male</td>\n",
              "      <td>41</td>\n",
              "      <td>1</td>\n",
              "    </tr>\n",
              "    <tr>\n",
              "      <th>13</th>\n",
              "      <td>Male</td>\n",
              "      <td>48</td>\n",
              "      <td>1</td>\n",
              "    </tr>\n",
              "    <tr>\n",
              "      <th>14</th>\n",
              "      <td>Male</td>\n",
              "      <td>61</td>\n",
              "      <td>1</td>\n",
              "    </tr>\n",
              "    <tr>\n",
              "      <th>15</th>\n",
              "      <td>Male</td>\n",
              "      <td>63</td>\n",
              "      <td>1</td>\n",
              "    </tr>\n",
              "    <tr>\n",
              "      <th>16</th>\n",
              "      <td>Male</td>\n",
              "      <td>64</td>\n",
              "      <td>1</td>\n",
              "    </tr>\n",
              "    <tr>\n",
              "      <th>17</th>\n",
              "      <td>Male</td>\n",
              "      <td>67</td>\n",
              "      <td>1</td>\n",
              "    </tr>\n",
              "  </tbody>\n",
              "</table>\n",
              "</div>"
            ],
            "text/plain": [
              "     Genre  Age  Count\n",
              "0   Female   20      1\n",
              "1   Female   23      2\n",
              "2   Female   29      1\n",
              "3   Female   37      1\n",
              "4   Female   45      1\n",
              "5   Female   47      1\n",
              "6   Female   53      1\n",
              "7   Female   55      1\n",
              "8   Female   59      2\n",
              "9   Female   67      1\n",
              "10    Male   20      1\n",
              "11    Male   28      1\n",
              "12    Male   41      1\n",
              "13    Male   48      1\n",
              "14    Male   61      1\n",
              "15    Male   63      1\n",
              "16    Male   64      1\n",
              "17    Male   67      1"
            ]
          },
          "execution_count": 13,
          "metadata": {},
          "output_type": "execute_result"
        }
      ],
      "source": [
        "#SQL Statement (Grouping by Genre & Age and counting each occurence of it)\n",
        "'''SELECT Gender, Age, count(*) \n",
        "FROM customers \n",
        "GROUPBY Gender, Age'''\n",
        "\n",
        "# Using Pandas\n",
        "customers.groupby(['Genre', 'Age']).size().to_frame('Count').reset_index()"
      ]
    },
    {
      "cell_type": "code",
      "execution_count": null,
      "id": "35cdf30a",
      "metadata": {
        "id": "35cdf30a"
      },
      "outputs": [],
      "source": []
    },
    {
      "cell_type": "code",
      "execution_count": null,
      "id": "80129cb5",
      "metadata": {
        "id": "80129cb5"
      },
      "outputs": [],
      "source": []
    },
    {
      "cell_type": "code",
      "execution_count": null,
      "id": "650d3103",
      "metadata": {
        "id": "650d3103"
      },
      "outputs": [],
      "source": []
    },
    {
      "cell_type": "code",
      "execution_count": null,
      "id": "e3d6c25d",
      "metadata": {
        "id": "e3d6c25d"
      },
      "outputs": [],
      "source": []
    },
    {
      "cell_type": "code",
      "execution_count": null,
      "id": "26963983",
      "metadata": {
        "id": "26963983"
      },
      "outputs": [],
      "source": []
    },
    {
      "cell_type": "code",
      "execution_count": null,
      "id": "81c85485",
      "metadata": {
        "id": "81c85485"
      },
      "outputs": [],
      "source": []
    },
    {
      "cell_type": "code",
      "execution_count": null,
      "id": "fab987e9",
      "metadata": {
        "id": "fab987e9"
      },
      "outputs": [],
      "source": []
    },
    {
      "cell_type": "code",
      "execution_count": null,
      "id": "1d260fd4",
      "metadata": {
        "id": "1d260fd4"
      },
      "outputs": [],
      "source": []
    },
    {
      "cell_type": "code",
      "execution_count": null,
      "id": "3f8b292d",
      "metadata": {
        "id": "3f8b292d"
      },
      "outputs": [],
      "source": []
    }
  ],
  "metadata": {
    "colab": {
      "name": "SQL Queries into Python Pandas Code 3.ipynb",
      "provenance": []
    },
    "kernelspec": {
      "display_name": "Python 3.7.13 ('db')",
      "language": "python",
      "name": "python3"
    },
    "language_info": {
      "codemirror_mode": {
        "name": "ipython",
        "version": 3
      },
      "file_extension": ".py",
      "mimetype": "text/x-python",
      "name": "python",
      "nbconvert_exporter": "python",
      "pygments_lexer": "ipython3",
      "version": "3.7.13"
    },
    "vscode": {
      "interpreter": {
        "hash": "38110404eef7c0d4ecffbb613a5d591b0f7effe63c9576e8044d61492c41e19c"
      }
    }
  },
  "nbformat": 4,
  "nbformat_minor": 5
}
